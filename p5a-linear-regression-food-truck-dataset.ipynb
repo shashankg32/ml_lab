{
 "cells": [
  {
   "cell_type": "markdown",
   "id": "7867a84b",
   "metadata": {},
   "source": [
    "# shashankg-1nt21is413-ml-lab-report-linear-regression-food-truck-dataset"
   ]
  },
  {
   "cell_type": "code",
   "execution_count": 1,
   "id": "6125df66",
   "metadata": {},
   "outputs": [],
   "source": [
    "import numpy as np\n",
    "import pandas as pd\n",
    "import matplotlib.pyplot as plt "
   ]
  },
  {
   "cell_type": "code",
   "execution_count": 2,
   "id": "04859e6f",
   "metadata": {},
   "outputs": [],
   "source": [
    "data = pd.read_csv(\"/home/ignis/413/data-set/Food-Truck(For Linear Regression Program)(1).csv\")"
   ]
  },
  {
   "cell_type": "code",
   "execution_count": 3,
   "id": "25d21659",
   "metadata": {},
   "outputs": [
    {
     "data": {
      "text/plain": [
       "<bound method NDFrame.head of      6.1101    17.592\n",
       "0    5.5277   9.13020\n",
       "1    8.5186  13.66200\n",
       "2    7.0032  11.85400\n",
       "3    5.8598   6.82330\n",
       "4    8.3829  11.88600\n",
       "..      ...       ...\n",
       "91   5.8707   7.20290\n",
       "92   5.3054   1.98690\n",
       "93   8.2934   0.14454\n",
       "94  13.3940   9.05510\n",
       "95   5.4369   0.61705\n",
       "\n",
       "[96 rows x 2 columns]>"
      ]
     },
     "execution_count": 3,
     "metadata": {},
     "output_type": "execute_result"
    }
   ],
   "source": [
    "data.head"
   ]
  },
  {
   "cell_type": "code",
   "execution_count": 4,
   "id": "4b35d86f",
   "metadata": {},
   "outputs": [],
   "source": [
    "x = data.iloc[:97,0]\n",
    "x = np.array(x)\n",
    "y = data.iloc[:97,1]\n",
    "y = np.array(y)"
   ]
  },
  {
   "cell_type": "code",
   "execution_count": 5,
   "id": "5bf56fe5",
   "metadata": {},
   "outputs": [
    {
     "name": "stdout",
     "output_type": "stream",
     "text": [
      "[ 5.5277  8.5186  7.0032  5.8598  8.3829  7.4764  8.5781  6.4862  5.0546\n",
      "  5.7107 14.164   5.734   8.4084  5.6407  5.3794  6.3654  5.1301  6.4296\n",
      "  7.0708  6.1891 20.27    5.4901  6.3261  5.5649 18.945  12.828  10.957\n",
      " 13.176  22.203   5.2524  6.5894  9.2482  5.8918  8.2111  7.9334  8.0959\n",
      "  5.6063 12.836   6.3534  5.4069  6.8825 11.708   5.7737  7.8247  7.0931\n",
      "  5.0702  5.8014 11.7     5.5416  7.5402  5.3077  7.4239  7.6031  6.3328\n",
      "  6.3589  6.2742  5.6397  9.3102  9.4536  8.8254  5.1793 21.279  14.908\n",
      " 18.959   7.2182  8.2951 10.236   5.4994 20.341  10.136   7.3345  6.0062\n",
      "  7.2259  5.0269  6.5479  7.5386  5.0365 10.274   5.1077  5.7292  5.1884\n",
      "  6.3557  9.7687  6.5159  8.5172  9.1802  6.002   5.5204  5.0594  5.7077\n",
      "  7.6366  5.8707  5.3054  8.2934 13.394   5.4369]\n"
     ]
    }
   ],
   "source": [
    "print(x)"
   ]
  },
  {
   "cell_type": "code",
   "execution_count": 6,
   "id": "1d9b9578",
   "metadata": {},
   "outputs": [
    {
     "name": "stdout",
     "output_type": "stream",
     "text": [
      "[ 9.1302  13.662   11.854    6.8233  11.886    4.3483  12.       6.5987\n",
      "  3.8166   3.2522  15.505    3.1551   7.2258   0.71618  3.5129   5.3048\n",
      "  0.56077  3.6518   5.3893   3.1386  21.767    4.263    5.1875   3.0825\n",
      " 22.638   13.501    7.0467  14.692   24.147   -1.22     5.9966  12.134\n",
      "  1.8495   6.5426   4.5623   4.1164   3.3928  10.117    5.4974   0.55657\n",
      "  3.9115   5.3854   2.4406   6.7318   1.0463   5.1337   1.844    8.0043\n",
      "  1.0179   6.7504   1.8396   4.2885   4.9981   1.4233  -1.4211   2.4756\n",
      "  4.6042   3.9624   5.4141   5.1694  -0.74279 17.929   12.054   17.054\n",
      "  4.8852   5.7442   7.7754   1.0173  20.992    6.6799   4.0259   1.2784\n",
      "  3.3411  -2.6807   0.29678  3.8845   5.7014   6.7526   2.0576   0.47953\n",
      "  0.20421  0.67861  7.5435   5.3436   4.2415   6.7981   0.92695  0.152\n",
      "  2.8214   1.8451   4.2959   7.2029   1.9869   0.14454  9.0551   0.61705]\n"
     ]
    }
   ],
   "source": [
    "print(y)"
   ]
  },
  {
   "cell_type": "code",
   "execution_count": 7,
   "id": "a4b7b0d9",
   "metadata": {},
   "outputs": [],
   "source": [
    "def estimate_coef(x, y): \n",
    "    # number of observations/points \n",
    "    n = np.size(x) \n",
    "  \n",
    "    # mean of x and y vector \n",
    "    m_x, m_y = np.mean(x), np.mean(y) \n",
    "  \n",
    "    # calculating cross-deviation and deviation about x \n",
    "    SS_xy = np.sum(y*x) - n*m_y*m_x \n",
    "    SS_xx = np.sum(x*x) - n*m_x*m_x \n",
    "  \n",
    "    # calculating regression coefficients \n",
    "    b_1 = SS_xy / SS_xx \n",
    "    b_0 = m_y - b_1*m_x \n",
    "  \n",
    "    return(b_0, b_1) "
   ]
  },
  {
   "cell_type": "code",
   "execution_count": 8,
   "id": "01080fbf",
   "metadata": {},
   "outputs": [
    {
     "name": "stdout",
     "output_type": "stream",
     "text": [
      "Estimated coefficients: b_0 = -4.211504005424107 b_1 = 1.2135472539083605\n"
     ]
    }
   ],
   "source": [
    "b = estimate_coef(x, y) \n",
    "print(\"Estimated coefficients: b_0 = {} b_1 = {}\".format(b[0], b[1])) "
   ]
  },
  {
   "cell_type": "code",
   "execution_count": 9,
   "id": "6655df00",
   "metadata": {},
   "outputs": [
    {
     "name": "stdout",
     "output_type": "stream",
     "text": [
      "-4.211504005424107 [ 6.70812516 10.33772364  8.49871413  7.1111442  10.17304527  9.07296469\n",
      " 10.4099297   7.8713102   6.13399595  6.9302043  17.1886833   6.95847995\n",
      " 10.20399073  6.845256    6.5281561   7.72471369  6.22561877  7.80262342\n",
      "  8.58074992  7.51076531 24.59860284  6.66249578  7.67702128  6.75326911\n",
      " 22.99065273 15.56738417 13.29683726 15.98969862 26.94438968  6.3740356\n",
      "  7.99654827 11.22312771  7.14997771  9.96455786  9.62755578  9.82475721\n",
      "  6.80350997 15.57709255  7.71015112  6.56152865  8.35223898 14.20821125\n",
      "  7.00665778  9.4956432   8.60781203  6.15292729  7.04027304 14.19850287\n",
      "  6.72499346  9.150389    6.44114476  9.00925346  9.22672113  7.68515205\n",
      "  7.71682563  7.61403818  6.84404245 11.29836764 11.47239032 10.71003993\n",
      "  6.28532529 25.82307202 18.09156246 23.00764239  8.75962679 10.06649583\n",
      " 12.42186969  6.67378177 24.68476469 12.30051497  8.90076233  7.28880752\n",
      "  8.7689711   6.10038069  7.94618606  9.14844733  6.11203074 12.46798449\n",
      "  6.19843531  6.95265493  6.29636857  7.71294228 11.85477906  7.90735255\n",
      " 10.33602467 11.1406065   7.28371062  6.69926626  6.13982098  6.92656366\n",
      "  9.26737496  7.12437186  6.4383536  10.0644328  16.25425192  6.59793506]\n"
     ]
    }
   ],
   "source": [
    "print(b[0],b[1]*x)"
   ]
  },
  {
   "cell_type": "code",
   "execution_count": 10,
   "id": "8fe932f7",
   "metadata": {},
   "outputs": [],
   "source": [
    "def plot_regression_line(x, y, b): \n",
    "    # plotting the actuacsvl points as scatter plot \n",
    "    plt.scatter(x, y, color = \"r\", \n",
    "               marker = \"o\", s = 30) \n",
    "  \n",
    "    # predicted response vector \n",
    "    y_pred = b[0] + b[1]*x \n",
    "  \n",
    "    # plotting the regression line \n",
    "    plt.plot(x, y_pred, color = \"g\") \n",
    "  \n",
    "    # putting labels \n",
    "    plt.xlabel('x') \n",
    "    plt.ylabel('y') \n",
    "  \n",
    "    # function to show plot \n",
    "    plt.show() "
   ]
  },
  {
   "cell_type": "code",
   "execution_count": 11,
   "id": "05943da2",
   "metadata": {},
   "outputs": [
    {
     "data": {
      "image/png": "[encoded data removed]",
      "text/plain": [
       "<Figure size 432x288 with 1 Axes>"
      ]
     },
     "metadata": {
      "needs_background": "light"
     },
     "output_type": "display_data"
    }
   ],
   "source": [
    "plot_regression_line(x, y, b) "
   ]
  }
 ],
 "metadata": {
  "kernelspec": {
   "display_name": "Python 3 (ipykernel)",
   "language": "python",
   "name": "python3"
  },
  "language_info": {
   "codemirror_mode": {
    "name": "ipython",
    "version": 3
   },
   "file_extension": ".py",
   "mimetype": "text/x-python",
   "name": "python",
   "nbconvert_exporter": "python",
   "pygments_lexer": "ipython3",
   "version": "3.10.12"
  }
 },
 "nbformat": 4,
 "nbformat_minor": 5
}
