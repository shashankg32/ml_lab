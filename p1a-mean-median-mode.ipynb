{
 "cells": [
  {
   "cell_type": "markdown",
   "id": "b1b6df3d",
   "metadata": {},
   "source": [
    "# shashank - 1nt21is413 - ml lab - lab 1 - report - 8 sept 2023"
   ]
  },
  {
   "cell_type": "markdown",
   "id": "f236f008",
   "metadata": {},
   "source": [
    "# **mean-median-mode without using standard lib**"
   ]
  },
  {
   "cell_type": "code",
   "execution_count": 17,
   "id": "16a22d52",
   "metadata": {},
   "outputs": [],
   "source": [
    "number = [115.3,195.5,120.5,110.2,90.4,105.6,110.9,116.3,122.3,125.4]"
   ]
  },
  {
   "cell_type": "code",
   "execution_count": 18,
   "id": "8f18852f",
   "metadata": {},
   "outputs": [
    {
     "name": "stdout",
     "output_type": "stream",
     "text": [
      "The mean or average of all these numbers ( [115.3, 195.5, 120.5, 110.2, 90.4, 105.6, 110.9, 116.3, 122.3, 125.4] ) is 121.24000000000001\n"
     ]
    }
   ],
   "source": [
    "no = len(number)\n",
    "summ = sum(number)\n",
    "mean = summ / no\n",
    "print(\"The mean or average of all these numbers (\", number, \") is\", str(mean)) "
   ]
  },
  {
   "cell_type": "code",
   "execution_count": 19,
   "id": "72582871",
   "metadata": {},
   "outputs": [
    {
     "name": "stdout",
     "output_type": "stream",
     "text": [
      "The median of the given numbers  ( [90.4, 105.6, 110.2, 110.9, 115.3, 116.3, 120.5, 122.3, 125.4, 195.5] ) is 115.8\n"
     ]
    }
   ],
   "source": [
    "no = len(number)\n",
    "number.sort()\n",
    "if no % 2 == 0:\n",
    "    median1 = number[no//2]\n",
    "    median2 = number[no//2 - 1]\n",
    "    median = (median1 + median2)/2\n",
    "else:\n",
    "    median = number[no//2]\n",
    "print(\"The median of the given numbers  (\", number, \") is\", str(median))"
   ]
  },
  {
   "cell_type": "code",
   "execution_count": 20,
   "id": "bc5713e5",
   "metadata": {},
   "outputs": [
    {
     "name": "stdout",
     "output_type": "stream",
     "text": [
      "The group of number do not have any mode\n"
     ]
    }
   ],
   "source": [
    "from collections import Counter\n",
    "no = len(number)\n",
    "val = Counter(number)\n",
    "findMode = dict(val)\n",
    "mode = [i for i, v in findMode.items() if v == max(list(val.values()))]  \n",
    "if len(mode) == no:\n",
    "    findMode = \"The group of number do not have any mode\"\n",
    "else:\n",
    "    findMode = \"The mode of a number is / are: \" + ', '.join(map(str, mode))\n",
    "print(findMode)"
   ]
  },
  {
   "cell_type": "markdown",
   "id": "c30a5412",
   "metadata": {},
   "source": [
    "# mean-median-mode using standard lib"
   ]
  },
  {
   "cell_type": "code",
   "execution_count": 21,
   "id": "2d181b95",
   "metadata": {},
   "outputs": [
    {
     "data": {
      "text/plain": [
       "121.24"
      ]
     },
     "execution_count": 21,
     "metadata": {},
     "output_type": "execute_result"
    }
   ],
   "source": [
    "import statistics\n",
    "statistics.mean(number)"
   ]
  },
  {
   "cell_type": "code",
   "execution_count": 22,
   "id": "2d49c5e6",
   "metadata": {},
   "outputs": [
    {
     "data": {
      "text/plain": [
       "115.8"
      ]
     },
     "execution_count": 22,
     "metadata": {},
     "output_type": "execute_result"
    }
   ],
   "source": [
    "import statistics\n",
    "statistics.median(number)"
   ]
  },
  {
   "cell_type": "code",
   "execution_count": 23,
   "id": "7400483a",
   "metadata": {},
   "outputs": [
    {
     "data": {
      "text/plain": [
       "90.4"
      ]
     },
     "execution_count": 23,
     "metadata": {},
     "output_type": "execute_result"
    }
   ],
   "source": [
    "import statistics\n",
    "statistics.mode(number)"
   ]
  },
  {
   "cell_type": "markdown",
   "id": "48a71758",
   "metadata": {},
   "source": [
    "# Standard Deviation with and without lib"
   ]
  },
  {
   "cell_type": "code",
   "execution_count": 24,
   "id": "aa57fed2",
   "metadata": {},
   "outputs": [],
   "source": [
    "def calculate_std_dev(number):\n",
    "    mean = sum(number) / len(number)\n",
    "    variance = sum((xi - mean) ** 2 for xi in number) / len(number)\n",
    "    std_dev = variance ** 0.5\n",
    "    print(std_dev)\n"
   ]
  },
  {
   "cell_type": "code",
   "execution_count": 25,
   "id": "d0dfc931",
   "metadata": {},
   "outputs": [
    {
     "name": "stdout",
     "output_type": "stream",
     "text": [
      "26.490987146574962\n"
     ]
    }
   ],
   "source": [
    "calculate_std_dev(number)"
   ]
  },
  {
   "cell_type": "code",
   "execution_count": 26,
   "id": "d2689eb4",
   "metadata": {},
   "outputs": [
    {
     "name": "stdout",
     "output_type": "stream",
     "text": [
      "26.490987146574966\n"
     ]
    }
   ],
   "source": [
    "import numpy as np\n",
    "ar = np.array(number)\n",
    "print(ar.std())"
   ]
  },
  {
   "cell_type": "markdown",
   "id": "daa8b001",
   "metadata": {},
   "source": [
    "# normalization with and without lib"
   ]
  },
  {
   "cell_type": "code",
   "execution_count": 27,
   "id": "9b5750d8",
   "metadata": {},
   "outputs": [
    {
     "name": "stdout",
     "output_type": "stream",
     "text": [
      "[0.0, 0.14462416745956222, 0.18839200761179828, 0.1950523311132255, 0.23691722169362506, 0.24643196955280677, 0.2863939105613701, 0.3035204567078972, 0.3330161750713606, 1.0]\n"
     ]
    }
   ],
   "source": [
    "min_val = min(number)\n",
    "max_val = max(number)\n",
    "normalized_data = [(x - min_val) / (max_val - min_val) for x in number]\n",
    "print(normalized_data)"
   ]
  },
  {
   "cell_type": "code",
   "execution_count": 28,
   "id": "c11a40e7",
   "metadata": {},
   "outputs": [
    {
     "name": "stdout",
     "output_type": "stream",
     "text": [
      "[0.         0.14462417 0.18839201 0.19505233 0.23691722 0.24643197\n",
      " 0.28639391 0.30352046 0.33301618 1.        ]\n"
     ]
    }
   ],
   "source": [
    "min_value = np.min(number)\n",
    "max_value = np.max(number)\n",
    "min_max_normalized = (number - min_value) / (max_value - min_value)\n",
    "print(min_max_normalized)"
   ]
  },
  {
   "cell_type": "markdown",
   "id": "84fb0d91",
   "metadata": {},
   "source": [
    "# Variance with and without lib"
   ]
  },
  {
   "cell_type": "code",
   "execution_count": 29,
   "id": "592fa043",
   "metadata": {},
   "outputs": [
    {
     "name": "stdout",
     "output_type": "stream",
     "text": [
      "701.7724000000001\n"
     ]
    }
   ],
   "source": [
    "variance = np.var(number)\n",
    "print(variance)"
   ]
  },
  {
   "cell_type": "code",
   "execution_count": 30,
   "id": "191f2883",
   "metadata": {},
   "outputs": [
    {
     "name": "stdout",
     "output_type": "stream",
     "text": [
      "701.7724000000001\n"
     ]
    }
   ],
   "source": [
    "squared_deviations = [(x - mean) ** 2 for x in number]\n",
    "std_dev = (sum(squared_deviations) / len(number)) ** 0.5\n",
    "variance = std_dev ** 2\n",
    "print(variance)"
   ]
  },
  {
   "cell_type": "markdown",
   "id": "3fd3dc32",
   "metadata": {},
   "source": [
    "# Standardization (Z-Score) with and without lib"
   ]
  },
  {
   "cell_type": "code",
   "execution_count": 31,
   "id": "bad0d7e8",
   "metadata": {},
   "outputs": [
    {
     "name": "stdout",
     "output_type": "stream",
     "text": [
      "[-1.164169527898749, -0.5903894752378874, -0.41674551193262627, -0.39032143056008645, -0.22422720478983726, -0.18647851711478058, -0.027934028879542303, 0.04001360893555966, 0.15703454072823575, 2.8032175467497105]\n"
     ]
    }
   ],
   "source": [
    "squared_deviations = [(x - mean) ** 2 for x in number]\n",
    "std_dev = (sum(squared_deviations) / len(number)) ** 0.5\n",
    "standardized_data = [(x - mean) / std_dev for x in number]\n",
    "print(standardized_data)"
   ]
  }
 ],
 "metadata": {
  "kernelspec": {
   "display_name": "Python 3 (ipykernel)",
   "language": "python",
   "name": "python3"
  },
  "language_info": {
   "codemirror_mode": {
    "name": "ipython",
    "version": 3
   },
   "file_extension": ".py",
   "mimetype": "text/x-python",
   "name": "python",
   "nbconvert_exporter": "python",
   "pygments_lexer": "ipython3",
   "version": "3.10.12"
  }
 },
 "nbformat": 4,
 "nbformat_minor": 5
}
